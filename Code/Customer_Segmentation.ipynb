{
 "cells": [
  {
   "cell_type": "markdown",
   "metadata": {},
   "source": [
    "importing library\n",
    "1.numpy\n",
    "2.pandas\n",
    "3.seaborn\n",
    "4. KMeans"
   ]
  },
  {
   "cell_type": "code",
   "execution_count": 4,
   "metadata": {},
   "outputs": [],
   "source": [
    "import numpy as np\n",
    "import pandas as pd\n",
    "import matplotlib.pyplot as plt\n",
    "import seaborn as sns\n",
    "from sklearn.cluster import KMeans"
   ]
  },
  {
   "cell_type": "code",
   "execution_count": 5,
   "metadata": {},
   "outputs": [],
   "source": [
    "c_dat = pd.read_csv('Customer_data.csv')"
   ]
  },
  {
   "cell_type": "markdown",
   "metadata": {},
   "source": [
    "Testing"
   ]
  },
  {
   "cell_type": "code",
   "execution_count": 6,
   "metadata": {},
   "outputs": [
    {
     "data": {
      "text/html": [
       "<div>\n",
       "<style scoped>\n",
       "    .dataframe tbody tr th:only-of-type {\n",
       "        vertical-align: middle;\n",
       "    }\n",
       "\n",
       "    .dataframe tbody tr th {\n",
       "        vertical-align: top;\n",
       "    }\n",
       "\n",
       "    .dataframe thead th {\n",
       "        text-align: right;\n",
       "    }\n",
       "</style>\n",
       "<table border=\"1\" class=\"dataframe\">\n",
       "  <thead>\n",
       "    <tr style=\"text-align: right;\">\n",
       "      <th></th>\n",
       "      <th>S.No</th>\n",
       "      <th>Country</th>\n",
       "      <th>Age(Avg)</th>\n",
       "      <th>Production</th>\n",
       "      <th>Sales</th>\n",
       "    </tr>\n",
       "  </thead>\n",
       "  <tbody>\n",
       "    <tr>\n",
       "      <th>0</th>\n",
       "      <td>1</td>\n",
       "      <td>USA</td>\n",
       "      <td>37</td>\n",
       "      <td>97</td>\n",
       "      <td>32</td>\n",
       "    </tr>\n",
       "    <tr>\n",
       "      <th>1</th>\n",
       "      <td>2</td>\n",
       "      <td>India</td>\n",
       "      <td>53</td>\n",
       "      <td>46</td>\n",
       "      <td>46</td>\n",
       "    </tr>\n",
       "    <tr>\n",
       "      <th>2</th>\n",
       "      <td>3</td>\n",
       "      <td>UK</td>\n",
       "      <td>59</td>\n",
       "      <td>71</td>\n",
       "      <td>11</td>\n",
       "    </tr>\n",
       "    <tr>\n",
       "      <th>3</th>\n",
       "      <td>4</td>\n",
       "      <td>Vietnam</td>\n",
       "      <td>25</td>\n",
       "      <td>24</td>\n",
       "      <td>73</td>\n",
       "    </tr>\n",
       "    <tr>\n",
       "      <th>4</th>\n",
       "      <td>5</td>\n",
       "      <td>USA</td>\n",
       "      <td>41</td>\n",
       "      <td>99</td>\n",
       "      <td>39</td>\n",
       "    </tr>\n",
       "  </tbody>\n",
       "</table>\n",
       "</div>"
      ],
      "text/plain": [
       "   S.No  Country  Age(Avg)  Production  Sales\n",
       "0     1      USA        37          97     32\n",
       "1     2    India        53          46     46\n",
       "2     3       UK        59          71     11\n",
       "3     4  Vietnam        25          24     73\n",
       "4     5      USA        41          99     39"
      ]
     },
     "execution_count": 6,
     "metadata": {},
     "output_type": "execute_result"
    }
   ],
   "source": [
    "c_dat.head()"
   ]
  },
  {
   "cell_type": "markdown",
   "metadata": {},
   "source": [
    "data size to confirm full data has beein imported"
   ]
  },
  {
   "cell_type": "code",
   "execution_count": 14,
   "metadata": {},
   "outputs": [
    {
     "data": {
      "text/plain": [
       "(200, 5)"
      ]
     },
     "execution_count": 14,
     "metadata": {},
     "output_type": "execute_result"
    }
   ],
   "source": [
    "c_dat.shape"
   ]
  },
  {
   "cell_type": "code",
   "execution_count": 16,
   "metadata": {},
   "outputs": [],
   "source": [
    "A = c_dat.iloc[:,[3,4]].values"
   ]
  },
  {
   "cell_type": "code",
   "execution_count": 17,
   "metadata": {},
   "outputs": [
    {
     "name": "stdout",
     "output_type": "stream",
     "text": [
      "[[ 97  32]\n",
      " [ 46  46]\n",
      " [ 71  11]\n",
      " [ 24  73]\n",
      " [ 99  39]\n",
      " [ 54  53]\n",
      " [ 34  73]\n",
      " [ 60  52]\n",
      " [ 69  58]\n",
      " [ 81  93]\n",
      " [ 60  40]\n",
      " [ 28  61]\n",
      " [ 40  42]\n",
      " [ 54  48]\n",
      " [ 77  74]\n",
      " [ 61  49]\n",
      " [ 64  42]\n",
      " [ 63  54]\n",
      " [ 30   4]\n",
      " [ 58  46]\n",
      " [ 39  65]\n",
      " [ 78  20]\n",
      " [ 38  92]\n",
      " [ 54  51]\n",
      " [ 87  63]\n",
      " [ 48  47]\n",
      " [ 20  15]\n",
      " [ 42  52]\n",
      " [ 23  98]\n",
      " [ 48  51]\n",
      " [ 21  66]\n",
      " [ 49  42]\n",
      " [ 16  77]\n",
      " [ 19  72]\n",
      " [ 48  59]\n",
      " [ 86  20]\n",
      " [ 54  42]\n",
      " [ 33  14]\n",
      " [ 85  26]\n",
      " [ 62  59]\n",
      " [ 43  45]\n",
      " [ 87  10]\n",
      " [ 21  35]\n",
      " [ 98  15]\n",
      " [ 28  82]\n",
      " [ 20  13]\n",
      " [ 70  29]\n",
      " [ 75  93]\n",
      " [ 65  43]\n",
      " [ 77  36]\n",
      " [ 98  88]\n",
      " [137  18]\n",
      " [ 48  48]\n",
      " [ 77  12]\n",
      " [ 70  77]\n",
      " [ 97  86]\n",
      " [ 60  42]\n",
      " [103  69]\n",
      " [ 48  50]\n",
      " [ 17  76]\n",
      " [ 73  88]\n",
      " [ 50  49]\n",
      " [ 44  50]\n",
      " [ 42  60]\n",
      " [ 47  52]\n",
      " [ 62  56]\n",
      " [ 29  31]\n",
      " [ 23  29]\n",
      " [ 74  10]\n",
      " [ 63  52]\n",
      " [ 65  59]\n",
      " [ 43  60]\n",
      " [ 39  36]\n",
      " [ 63  46]\n",
      " [ 71  35]\n",
      " [ 87  27]\n",
      " [ 18  94]\n",
      " [ 78   1]\n",
      " [ 85  75]\n",
      " [ 46  51]\n",
      " [ 47  59]\n",
      " [ 63  43]\n",
      " [ 71  95]\n",
      " [ 33  81]\n",
      " [120  79]\n",
      " [ 72  34]\n",
      " [ 16   6]\n",
      " [ 34  17]\n",
      " [ 67  40]\n",
      " [ 57  55]\n",
      " [ 17  40]\n",
      " [ 72  71]\n",
      " [ 78  73]\n",
      " [ 59  55]\n",
      " [ 78  90]\n",
      " [ 99  97]\n",
      " [ 73   7]\n",
      " [ 88  69]\n",
      " [ 76  87]\n",
      " [ 19  99]\n",
      " [ 54  57]\n",
      " [ 43  54]\n",
      " [ 38  35]\n",
      " [ 93  90]\n",
      " [ 74  72]\n",
      " [ 39  61]\n",
      " [ 87  92]\n",
      " [ 62  55]\n",
      " [137  83]\n",
      " [ 78   1]\n",
      " [ 71   9]\n",
      " [ 69  91]\n",
      " [ 63  48]\n",
      " [101  24]\n",
      " [113  91]\n",
      " [ 78  22]\n",
      " [ 65  50]\n",
      " [ 33  92]\n",
      " [ 20  77]\n",
      " [ 54  55]\n",
      " [ 19   3]\n",
      " [ 46  55]\n",
      " [ 79  35]\n",
      " [ 30  73]\n",
      " [ 28  32]\n",
      " [ 37  26]\n",
      " [ 54  44]\n",
      " [ 78  76]\n",
      " [ 29  87]\n",
      " [ 79  83]\n",
      " [ 88  15]\n",
      " [ 57  58]\n",
      " [ 54  47]\n",
      " [ 60  47]\n",
      " [ 54  52]\n",
      " [ 71  75]\n",
      " [ 15  81]\n",
      " [ 28  14]\n",
      " [ 78  17]\n",
      " [ 20  79]\n",
      " [ 88  13]\n",
      " [ 75   5]\n",
      " [ 46  56]\n",
      " [ 64  46]\n",
      " [ 37  75]\n",
      " [ 59  41]\n",
      " [ 54  41]\n",
      " [ 73  73]\n",
      " [ 67  57]\n",
      " [ 87  13]\n",
      " [ 61  42]\n",
      " [ 50  56]\n",
      " [ 15  39]\n",
      " [ 71  75]\n",
      " [126  28]\n",
      " [ 87  75]\n",
      " [120  16]\n",
      " [ 58  60]\n",
      " [ 24  35]\n",
      " [ 25  73]\n",
      " [ 81   5]\n",
      " [ 43  41]\n",
      " [103  23]\n",
      " [ 49  55]\n",
      " [ 60  49]\n",
      " [ 65  48]\n",
      " [103  85]\n",
      " [ 54  54]\n",
      " [101  68]\n",
      " [ 62  42]\n",
      " [ 86  95]\n",
      " [126  74]\n",
      " [ 44  46]\n",
      " [ 40  42]\n",
      " [103  17]\n",
      " [ 73   5]\n",
      " [ 60  50]\n",
      " [113   8]\n",
      " [ 54  46]\n",
      " [ 62  41]\n",
      " [ 18   6]\n",
      " [ 78  88]\n",
      " [ 48  59]\n",
      " [ 63  50]\n",
      " [ 78  78]\n",
      " [ 40  55]\n",
      " [ 76  40]\n",
      " [ 78  16]\n",
      " [ 25   5]\n",
      " [ 88  86]\n",
      " [ 19  14]\n",
      " [ 62  48]\n",
      " [ 93  14]\n",
      " [ 77  97]\n",
      " [ 33   4]\n",
      " [ 67  43]\n",
      " [ 39  28]\n",
      " [ 40  47]\n",
      " [ 67  56]\n",
      " [ 78  89]]\n"
     ]
    }
   ],
   "source": [
    "print(A)"
   ]
  },
  {
   "cell_type": "markdown",
   "metadata": {},
   "source": [
    "Identifying the Number of Clusters"
   ]
  },
  {
   "cell_type": "markdown",
   "metadata": {},
   "source": [
    "Using WCSS: Within Clusters Sum of Squares"
   ]
  },
  {
   "cell_type": "code",
   "execution_count": 10,
   "metadata": {},
   "outputs": [],
   "source": [
    "WC=[]\n",
    "#200 values so taking 15clusters at max\n",
    "for i in range(1,16):\n",
    "  KM = KMeans(n_clusters=i, init='k-means++', random_state=40)\n",
    "  KM.fit(A)\n",
    "  WC.append(KM.inertia_)"
   ]
  },
  {
   "cell_type": "code",
   "execution_count": 11,
   "metadata": {},
   "outputs": [
    {
     "data": {
      "image/png": "[encoded data removed]",
      "text/plain": [
       "<Figure size 640x480 with 1 Axes>"
      ]
     },
     "metadata": {},
     "output_type": "display_data"
    }
   ],
   "source": [
    "#Elbow Graph Plotting with seaborn Wcss formula\n",
    "sns.set()\n",
    "plt.plot(range(1,16),WC)\n",
    "plt.title('Elbow Point')\n",
    "plt.xlabel('Cluster Count')\n",
    "plt.ylabel('Within Cluster Sum of Squares')\n",
    "plt.show()"
   ]
  },
  {
   "cell_type": "markdown",
   "metadata": {},
   "source": [
    "There are two elbow points in the above graph. According to the graph the drops are known as elbow points. The last drop after which there are no significant changes is at x=5. Hence We will be taking 5 clusters. We will Now train the clustering model"
   ]
  },
  {
   "cell_type": "code",
   "execution_count": 12,
   "metadata": {},
   "outputs": [
    {
     "name": "stdout",
     "output_type": "stream",
     "text": [
      "[2 0 2 1 2 0 1 0 0 4 0 1 0 0 4 0 0 0 3 0 1 2 1 0 4 0 3 0 1 0 1 0 1 1 0 2 0\n",
      " 3 2 0 0 2 3 2 1 3 2 4 0 2 4 2 0 2 4 4 0 4 0 1 4 0 0 0 0 0 3 3 2 0 0 0 3 0\n",
      " 0 2 1 2 4 0 0 0 4 1 4 0 3 3 0 0 3 4 4 0 4 4 2 4 4 1 0 0 3 4 4 0 4 0 4 2 2\n",
      " 4 0 2 4 2 0 1 1 0 3 0 2 1 3 3 0 4 1 4 2 0 0 0 0 4 1 3 2 1 2 2 0 0 1 0 0 4\n",
      " 0 2 0 0 3 4 2 4 2 0 3 1 2 0 2 0 0 0 4 0 4 0 4 4 0 0 2 2 0 2 0 0 3 4 0 0 4\n",
      " 0 0 2 3 4 3 0 2 4 3 0 3 0 0 4]\n"
     ]
    }
   ],
   "source": [
    "KM=KMeans(n_clusters=5, init='k-means++', random_state=0)\n",
    "#Important to label each datapoint\n",
    "Y=KM.fit_predict(A)\n",
    "print(Y)"
   ]
  },
  {
   "cell_type": "code",
   "execution_count": 13,
   "metadata": {},
   "outputs": [
    {
     "data": {
      "image/png": "[encoded data removed]",
      "text/plain": [
       "<Figure size 800x800 with 1 Axes>"
      ]
     },
     "metadata": {},
     "output_type": "display_data"
    }
   ],
   "source": [
    "plt.figure(figsize=(8,8))\n",
    "plt.scatter(A[Y==0,0], A[Y==0,1], s=50, c='#1A374D', label='Cluster 1')\n",
    "plt.scatter(A[Y==1,0], A[Y==1,1], s=50, c='#92A9BD', label='Cluster 2')\n",
    "plt.scatter(A[Y==2,0], A[Y==2,1], s=50, c='#2EB086', label='Cluster 3')\n",
    "plt.scatter(A[Y==3,0], A[Y==3,1], s=50, c='#FF9F45', label='Cluster 4')\n",
    "plt.scatter(A[Y==4,0], A[Y==4,1], s=50, c='#2666CF', label='Cluster 5')\n",
    "\n",
    "plt.scatter(KM.cluster_centers_[:,0], KM.cluster_centers_[:,1], s=100, c='magenta', label='Centroid')\n",
    "plt.title('Customer Segmentation')\n",
    "plt.xlabel('Production')\n",
    "plt.ylabel('Sales')\n",
    "plt.show()"
   ]
  }
 ],
 "metadata": {
  "kernelspec": {
   "display_name": "Python 3.10.5 64-bit",
   "language": "python",
   "name": "python3"
  },
  "language_info": {
   "codemirror_mode": {
    "name": "ipython",
    "version": 3
   },
   "file_extension": ".py",
   "mimetype": "text/x-python",
   "name": "python",
   "nbconvert_exporter": "python",
   "pygments_lexer": "ipython3",
   "version": "3.10.5"
  },
  "orig_nbformat": 4,
  "vscode": {
   "interpreter": {
    "hash": "824bedee759f0ee5bc8138b875068951b161c1ced5e4aed4f61c0625e7fc880c"
   }
  }
 },
 "nbformat": 4,
 "nbformat_minor": 2
}
